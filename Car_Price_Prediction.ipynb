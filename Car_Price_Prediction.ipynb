{
 "cells": [
  {
   "cell_type": "code",
   "execution_count": 19,
   "id": "8513c6a9-388c-41e5-8b3a-b56e9e86510d",
   "metadata": {},
   "outputs": [],
   "source": [
    "import numpy as np\n",
    "import pandas as pd\n",
    "import matplotlib.pyplot as plt\n",
    "from sklearn.model_selection import train_test_split\n",
    "from sklearn.ensemble import RandomForestRegressor\n",
    "from sklearn.ensemble import AdaBoostRegressor\n",
    "from sklearn.ensemble import GradientBoostingRegressor\n",
    "from sklearn.linear_model import LinearRegression, Ridge,Lasso\n",
    "from sklearn.neighbors import KNeighborsRegressor\n",
    "from sklearn.tree import DecisionTreeRegressor\n",
    "from sklearn.metrics import r2_score, mean_absolute_error, mean_squared_error"
   ]
  },
  {
   "cell_type": "code",
   "execution_count": 20,
   "id": "86df2a82-52fa-4060-9560-56dbc07d9c91",
   "metadata": {},
   "outputs": [
    {
     "data": {
      "text/html": [
       "<div>\n",
       "<style scoped>\n",
       "    .dataframe tbody tr th:only-of-type {\n",
       "        vertical-align: middle;\n",
       "    }\n",
       "\n",
       "    .dataframe tbody tr th {\n",
       "        vertical-align: top;\n",
       "    }\n",
       "\n",
       "    .dataframe thead th {\n",
       "        text-align: right;\n",
       "    }\n",
       "</style>\n",
       "<table border=\"1\" class=\"dataframe\">\n",
       "  <thead>\n",
       "    <tr style=\"text-align: right;\">\n",
       "      <th></th>\n",
       "      <th>Car_Name</th>\n",
       "      <th>Year</th>\n",
       "      <th>Selling_Price</th>\n",
       "      <th>Present_Price</th>\n",
       "      <th>Kms_Driven</th>\n",
       "      <th>Fuel_Type</th>\n",
       "      <th>Seller_Type</th>\n",
       "      <th>Transmission</th>\n",
       "      <th>Owner</th>\n",
       "    </tr>\n",
       "  </thead>\n",
       "  <tbody>\n",
       "    <tr>\n",
       "      <th>0</th>\n",
       "      <td>ritz</td>\n",
       "      <td>2014</td>\n",
       "      <td>3.35</td>\n",
       "      <td>5.59</td>\n",
       "      <td>27000</td>\n",
       "      <td>Petrol</td>\n",
       "      <td>Dealer</td>\n",
       "      <td>Manual</td>\n",
       "      <td>0</td>\n",
       "    </tr>\n",
       "    <tr>\n",
       "      <th>1</th>\n",
       "      <td>sx4</td>\n",
       "      <td>2013</td>\n",
       "      <td>4.75</td>\n",
       "      <td>9.54</td>\n",
       "      <td>43000</td>\n",
       "      <td>Diesel</td>\n",
       "      <td>Dealer</td>\n",
       "      <td>Manual</td>\n",
       "      <td>0</td>\n",
       "    </tr>\n",
       "    <tr>\n",
       "      <th>2</th>\n",
       "      <td>ciaz</td>\n",
       "      <td>2017</td>\n",
       "      <td>7.25</td>\n",
       "      <td>9.85</td>\n",
       "      <td>6900</td>\n",
       "      <td>Petrol</td>\n",
       "      <td>Dealer</td>\n",
       "      <td>Manual</td>\n",
       "      <td>0</td>\n",
       "    </tr>\n",
       "    <tr>\n",
       "      <th>3</th>\n",
       "      <td>wagon r</td>\n",
       "      <td>2011</td>\n",
       "      <td>2.85</td>\n",
       "      <td>4.15</td>\n",
       "      <td>5200</td>\n",
       "      <td>Petrol</td>\n",
       "      <td>Dealer</td>\n",
       "      <td>Manual</td>\n",
       "      <td>0</td>\n",
       "    </tr>\n",
       "    <tr>\n",
       "      <th>4</th>\n",
       "      <td>swift</td>\n",
       "      <td>2014</td>\n",
       "      <td>4.60</td>\n",
       "      <td>6.87</td>\n",
       "      <td>42450</td>\n",
       "      <td>Diesel</td>\n",
       "      <td>Dealer</td>\n",
       "      <td>Manual</td>\n",
       "      <td>0</td>\n",
       "    </tr>\n",
       "  </tbody>\n",
       "</table>\n",
       "</div>"
      ],
      "text/plain": [
       "  Car_Name  Year  Selling_Price  Present_Price  Kms_Driven Fuel_Type Seller_Type Transmission  Owner\n",
       "0     ritz  2014           3.35           5.59       27000    Petrol      Dealer       Manual      0\n",
       "1      sx4  2013           4.75           9.54       43000    Diesel      Dealer       Manual      0\n",
       "2     ciaz  2017           7.25           9.85        6900    Petrol      Dealer       Manual      0\n",
       "3  wagon r  2011           2.85           4.15        5200    Petrol      Dealer       Manual      0\n",
       "4    swift  2014           4.60           6.87       42450    Diesel      Dealer       Manual      0"
      ]
     },
     "execution_count": 20,
     "metadata": {},
     "output_type": "execute_result"
    }
   ],
   "source": [
    "#reading csv file named 'car data'\n",
    "car_df=pd.read_csv('car data.csv')\n",
    "car_df.head()"
   ]
  },
  {
   "cell_type": "code",
   "execution_count": 21,
   "id": "cb802c04-3c92-4231-ab59-8d9ff6d869c3",
   "metadata": {},
   "outputs": [
    {
     "data": {
      "text/plain": [
       "(301, 9)"
      ]
     },
     "execution_count": 21,
     "metadata": {},
     "output_type": "execute_result"
    }
   ],
   "source": [
    "car_df.shape"
   ]
  },
  {
   "cell_type": "code",
   "execution_count": 22,
   "id": "07fe2afd-fe07-4259-b3c5-44ae490a6ba2",
   "metadata": {},
   "outputs": [
    {
     "data": {
      "text/plain": [
       "Car_Name         0\n",
       "Year             0\n",
       "Selling_Price    0\n",
       "Present_Price    0\n",
       "Kms_Driven       0\n",
       "Fuel_Type        0\n",
       "Seller_Type      0\n",
       "Transmission     0\n",
       "Owner            0\n",
       "dtype: int64"
      ]
     },
     "execution_count": 22,
     "metadata": {},
     "output_type": "execute_result"
    }
   ],
   "source": [
    "car_df.isnull().sum()"
   ]
  },
  {
   "cell_type": "code",
   "execution_count": 23,
   "id": "b65090a4-7b0f-4f3e-9b4f-d1ad9ed0a883",
   "metadata": {},
   "outputs": [
    {
     "data": {
      "text/plain": [
       "Fuel_Type\n",
       "Petrol    239\n",
       "Diesel     60\n",
       "CNG         2\n",
       "Name: count, dtype: int64"
      ]
     },
     "execution_count": 23,
     "metadata": {},
     "output_type": "execute_result"
    }
   ],
   "source": [
    "car_df.Fuel_Type.value_counts()"
   ]
  },
  {
   "cell_type": "code",
   "execution_count": 24,
   "id": "bb2854a8-9f68-4c06-a3a5-49d2bb3ff26a",
   "metadata": {},
   "outputs": [
    {
     "data": {
      "text/plain": [
       "Seller_Type\n",
       "Dealer        195\n",
       "Individual    106\n",
       "Name: count, dtype: int64"
      ]
     },
     "execution_count": 24,
     "metadata": {},
     "output_type": "execute_result"
    }
   ],
   "source": [
    "car_df.Seller_Type.value_counts()"
   ]
  },
  {
   "cell_type": "code",
   "execution_count": 25,
   "id": "f1077fd4-4da3-44fd-bf56-26526ffc89ed",
   "metadata": {},
   "outputs": [
    {
     "data": {
      "text/plain": [
       "Transmission\n",
       "Manual       261\n",
       "Automatic     40\n",
       "Name: count, dtype: int64"
      ]
     },
     "execution_count": 25,
     "metadata": {},
     "output_type": "execute_result"
    }
   ],
   "source": [
    "car_df.Transmission.value_counts()"
   ]
  },
  {
   "cell_type": "code",
   "execution_count": 26,
   "id": "659b2ee4-9495-49d9-830e-5eda543554e0",
   "metadata": {},
   "outputs": [],
   "source": [
    "import warnings\n",
    "warnings.filterwarnings(\"ignore\")"
   ]
  },
  {
   "cell_type": "code",
   "execution_count": 27,
   "id": "e1750a4c-1f37-46a8-ad85-3302f647930a",
   "metadata": {},
   "outputs": [],
   "source": [
    "car_df.replace({'Fuel_Type':{'Petrol':0,'Diesel':1,'CNG':2}},inplace=True)\n",
    "car_df.replace({'Seller_Type':{'Dealer':0,'Individual':1}},inplace=True)\n",
    "car_df.replace({'Transmission':{'Manual':0,'Automatic':1,}},inplace=True)"
   ]
  },
  {
   "cell_type": "code",
   "execution_count": 28,
   "id": "efc66c1f-84bf-4175-81e9-dc4bec4ab474",
   "metadata": {},
   "outputs": [],
   "source": [
    "#renaming 'year' column to 'age' \n",
    "car_df.rename(columns={'Year':'Age'}, inplace= True)"
   ]
  },
  {
   "cell_type": "code",
   "execution_count": 29,
   "id": "66310103-cbad-4c08-a45a-1ba4c8d3a8e8",
   "metadata": {},
   "outputs": [
    {
     "data": {
      "text/html": [
       "<div>\n",
       "<style scoped>\n",
       "    .dataframe tbody tr th:only-of-type {\n",
       "        vertical-align: middle;\n",
       "    }\n",
       "\n",
       "    .dataframe tbody tr th {\n",
       "        vertical-align: top;\n",
       "    }\n",
       "\n",
       "    .dataframe thead th {\n",
       "        text-align: right;\n",
       "    }\n",
       "</style>\n",
       "<table border=\"1\" class=\"dataframe\">\n",
       "  <thead>\n",
       "    <tr style=\"text-align: right;\">\n",
       "      <th></th>\n",
       "      <th>Car_Name</th>\n",
       "      <th>Age</th>\n",
       "      <th>Selling_Price</th>\n",
       "      <th>Present_Price</th>\n",
       "      <th>Kms_Driven</th>\n",
       "      <th>Fuel_Type</th>\n",
       "      <th>Seller_Type</th>\n",
       "      <th>Transmission</th>\n",
       "      <th>Owner</th>\n",
       "    </tr>\n",
       "  </thead>\n",
       "  <tbody>\n",
       "    <tr>\n",
       "      <th>0</th>\n",
       "      <td>ritz</td>\n",
       "      <td>9</td>\n",
       "      <td>3.35</td>\n",
       "      <td>5.59</td>\n",
       "      <td>27000</td>\n",
       "      <td>0</td>\n",
       "      <td>0</td>\n",
       "      <td>0</td>\n",
       "      <td>0</td>\n",
       "    </tr>\n",
       "    <tr>\n",
       "      <th>1</th>\n",
       "      <td>sx4</td>\n",
       "      <td>10</td>\n",
       "      <td>4.75</td>\n",
       "      <td>9.54</td>\n",
       "      <td>43000</td>\n",
       "      <td>1</td>\n",
       "      <td>0</td>\n",
       "      <td>0</td>\n",
       "      <td>0</td>\n",
       "    </tr>\n",
       "    <tr>\n",
       "      <th>2</th>\n",
       "      <td>ciaz</td>\n",
       "      <td>6</td>\n",
       "      <td>7.25</td>\n",
       "      <td>9.85</td>\n",
       "      <td>6900</td>\n",
       "      <td>0</td>\n",
       "      <td>0</td>\n",
       "      <td>0</td>\n",
       "      <td>0</td>\n",
       "    </tr>\n",
       "    <tr>\n",
       "      <th>3</th>\n",
       "      <td>wagon r</td>\n",
       "      <td>12</td>\n",
       "      <td>2.85</td>\n",
       "      <td>4.15</td>\n",
       "      <td>5200</td>\n",
       "      <td>0</td>\n",
       "      <td>0</td>\n",
       "      <td>0</td>\n",
       "      <td>0</td>\n",
       "    </tr>\n",
       "    <tr>\n",
       "      <th>4</th>\n",
       "      <td>swift</td>\n",
       "      <td>9</td>\n",
       "      <td>4.60</td>\n",
       "      <td>6.87</td>\n",
       "      <td>42450</td>\n",
       "      <td>1</td>\n",
       "      <td>0</td>\n",
       "      <td>0</td>\n",
       "      <td>0</td>\n",
       "    </tr>\n",
       "  </tbody>\n",
       "</table>\n",
       "</div>"
      ],
      "text/plain": [
       "  Car_Name  Age  Selling_Price  Present_Price  Kms_Driven  Fuel_Type  Seller_Type  Transmission  Owner\n",
       "0     ritz    9           3.35           5.59       27000          0            0             0      0\n",
       "1      sx4   10           4.75           9.54       43000          1            0             0      0\n",
       "2     ciaz    6           7.25           9.85        6900          0            0             0      0\n",
       "3  wagon r   12           2.85           4.15        5200          0            0             0      0\n",
       "4    swift    9           4.60           6.87       42450          1            0             0      0"
      ]
     },
     "execution_count": 29,
     "metadata": {},
     "output_type": "execute_result"
    }
   ],
   "source": [
    "car_df['Age']= 2023 - car_df['Age']\n",
    "car_df.head()"
   ]
  },
  {
   "cell_type": "code",
   "execution_count": 30,
   "id": "374e2dbd-74db-440d-af43-52583d107c61",
   "metadata": {},
   "outputs": [
    {
     "data": {
      "text/plain": [
       "Text(0.5, 1.0, 'Variation of present price with Age')"
      ]
     },
     "execution_count": 30,
     "metadata": {},
     "output_type": "execute_result"
    },
    {
     "data": {
      "image/png": "[encoded data removed]",
      "text/plain": [
       "<Figure size 640x480 with 1 Axes>"
      ]
     },
     "metadata": {},
     "output_type": "display_data"
    }
   ],
   "source": [
    "plt.scatter(car_df['Age'],car_df['Present_Price'])\n",
    "plt.xlabel('Age in years')\n",
    "plt.ylabel('Present Price')\n",
    "plt.title('Variation of present price with Age')"
   ]
  },
  {
   "cell_type": "code",
   "execution_count": 31,
   "id": "dde2db7b-8277-4976-b43c-875c1b4ae1e6",
   "metadata": {},
   "outputs": [
    {
     "name": "stdout",
     "output_type": "stream",
     "text": [
      "     Age  Present_Price  Kms_Driven  Fuel_Type  Seller_Type  Transmission  Owner\n",
      "0      9           5.59       27000          0            0             0      0\n",
      "1     10           9.54       43000          1            0             0      0\n",
      "2      6           9.85        6900          0            0             0      0\n",
      "3     12           4.15        5200          0            0             0      0\n",
      "4      9           6.87       42450          1            0             0      0\n",
      "..   ...            ...         ...        ...          ...           ...    ...\n",
      "296    7          11.60       33988          1            0             0      0\n",
      "297    8           5.90       60000          0            0             0      0\n",
      "298   14          11.00       87934          0            0             0      0\n",
      "299    6          12.50        9000          1            0             0      0\n",
      "300    7           5.90        5464          0            0             0      0\n",
      "\n",
      "[301 rows x 7 columns]\n",
      "0       3.35\n",
      "1       4.75\n",
      "2       7.25\n",
      "3       2.85\n",
      "4       4.60\n",
      "       ...  \n",
      "296     9.50\n",
      "297     4.00\n",
      "298     3.35\n",
      "299    11.50\n",
      "300     5.30\n",
      "Name: Selling_Price, Length: 301, dtype: float64\n"
     ]
    }
   ],
   "source": [
    "X=car_df.drop(['Car_Name','Selling_Price'],axis=1)\n",
    "Y=car_df['Selling_Price']\n",
    "print(X)\n",
    "print(Y)"
   ]
  },
  {
   "cell_type": "code",
   "execution_count": 32,
   "id": "42da03b1-68a7-42eb-9bac-d97d5f591053",
   "metadata": {},
   "outputs": [],
   "source": [
    "X_train,X_test,Y_train,Y_test = train_test_split(X,Y,test_size=0.1,random_state=2)"
   ]
  },
  {
   "cell_type": "code",
   "execution_count": 33,
   "id": "af0a8f60-6f23-4154-b811-2d6924aba7cc",
   "metadata": {},
   "outputs": [],
   "source": [
    "def evaluate_model(true, predicted):\n",
    "    mae = mean_absolute_error(true, predicted)\n",
    "    mse = mean_squared_error(true, predicted)\n",
    "    rmse = np.sqrt(mean_squared_error(true, predicted))\n",
    "    r2_square = r2_score(true, predicted)\n",
    "    return mae, rmse, r2_square"
   ]
  },
  {
   "cell_type": "code",
   "execution_count": 40,
   "id": "6ca4d384-4e8b-4af8-a04f-bf3c4e62d33a",
   "metadata": {},
   "outputs": [
    {
     "name": "stdout",
     "output_type": "stream",
     "text": [
      "Linear Regression\n",
      "Model performance for Training set\n",
      "- Root Mean Squared Error: 1.8053\n",
      "- Mean Absolute Error: 1.2166\n",
      "- R2 Score: 0.8799\n",
      "________________________________________\n",
      "Model performance for Test set\n",
      "- Root Mean Squared Error: 1.4663\n",
      "- Mean Absolute Error: 1.1516\n",
      "- R2 Score: 0.8366\n",
      "________________________________________\n",
      "\n",
      "\n",
      "Lasso\n",
      "Model performance for Training set\n",
      "- Root Mean Squared Error: 2.0659\n",
      "- Mean Absolute Error: 1.2863\n",
      "- R2 Score: 0.8428\n",
      "________________________________________\n",
      "Model performance for Test set\n",
      "- Root Mean Squared Error: 1.3032\n",
      "- Mean Absolute Error: 1.0507\n",
      "- R2 Score: 0.8709\n",
      "________________________________________\n",
      "\n",
      "\n",
      "Ridge\n",
      "Model performance for Training set\n",
      "- Root Mean Squared Error: 1.8055\n",
      "- Mean Absolute Error: 1.2128\n",
      "- R2 Score: 0.8799\n",
      "________________________________________\n",
      "Model performance for Test set\n",
      "- Root Mean Squared Error: 1.4505\n",
      "- Mean Absolute Error: 1.1431\n",
      "- R2 Score: 0.8401\n",
      "________________________________________\n",
      "\n",
      "\n",
      "K-Neighbors Regressor\n",
      "Model performance for Training set\n",
      "- Root Mean Squared Error: 4.3043\n",
      "- Mean Absolute Error: 2.9413\n",
      "- R2 Score: 0.3175\n",
      "________________________________________\n",
      "Model performance for Test set\n",
      "- Root Mean Squared Error: 4.2246\n",
      "- Mean Absolute Error: 3.5275\n",
      "- R2 Score: -0.3565\n",
      "________________________________________\n",
      "\n",
      "\n",
      "Decision Tree\n",
      "Model performance for Training set\n",
      "- Root Mean Squared Error: 0.0000\n",
      "- Mean Absolute Error: 0.0000\n",
      "- R2 Score: 1.0000\n",
      "________________________________________\n",
      "Model performance for Test set\n",
      "- Root Mean Squared Error: 1.0067\n",
      "- Mean Absolute Error: 0.5487\n",
      "- R2 Score: 0.9230\n",
      "________________________________________\n",
      "\n",
      "\n",
      "Random Forest Regressor\n",
      "Model performance for Training set\n",
      "- Root Mean Squared Error: 0.5975\n",
      "- Mean Absolute Error: 0.2421\n",
      "- R2 Score: 0.9869\n",
      "________________________________________\n",
      "Model performance for Test set\n",
      "- Root Mean Squared Error: 0.5853\n",
      "- Mean Absolute Error: 0.3783\n",
      "- R2 Score: 0.9740\n",
      "________________________________________\n",
      "\n",
      "\n",
      "Adaboost Regressor\n",
      "Model performance for Training set\n",
      "- Root Mean Squared Error: 0.9309\n",
      "- Mean Absolute Error: 0.7260\n",
      "- R2 Score: 0.9681\n",
      "________________________________________\n",
      "Model performance for Test set\n",
      "- Root Mean Squared Error: 0.7830\n",
      "- Mean Absolute Error: 0.6149\n",
      "- R2 Score: 0.9534\n",
      "________________________________________\n",
      "\n",
      "\n",
      "GradientBoostingRegressor\n",
      "Model performance for Training set\n",
      "- Root Mean Squared Error: 0.3439\n",
      "- Mean Absolute Error: 0.2504\n",
      "- R2 Score: 0.9956\n",
      "________________________________________\n",
      "Model performance for Test set\n",
      "- Root Mean Squared Error: 0.5016\n",
      "- Mean Absolute Error: 0.3773\n",
      "- R2 Score: 0.9809\n",
      "________________________________________\n",
      "\n",
      "\n"
     ]
    }
   ],
   "source": [
    "models = {\n",
    "    \"Linear Regression\": LinearRegression(),\n",
    "    \"Lasso\": Lasso(),\n",
    "    \"Ridge\": Ridge(),\n",
    "    \"K-Neighbors Regressor\": KNeighborsRegressor(),\n",
    "    \"Decision Tree\": DecisionTreeRegressor(),\n",
    "    \"Random Forest Regressor\": RandomForestRegressor(),\n",
    "    \"Adaboost Regressor\":AdaBoostRegressor(),\n",
    "    \"GradientBoostingRegressor\":GradientBoostingRegressor()\n",
    "}\n",
    "\n",
    "for i in range(len(list(models))):\n",
    "    model = list(models.values())[i]\n",
    "    model.fit(X_train, Y_train)\n",
    "    y_train_pred = model.predict(X_train)\n",
    "    y_test_pred = model.predict(X_test)\n",
    "    model_train_mae , model_train_rmse, model_train_r2 = evaluate_model(Y_train, y_train_pred)\n",
    "    model_test_mae , model_test_rmse, model_test_r2 = evaluate_model(Y_test, y_test_pred)\n",
    "    print(list(models.keys())[i])\n",
    "    print('Model performance for Training set')\n",
    "    print(\"- Root Mean Squared Error: {:.4f}\".format(model_train_rmse))\n",
    "    print(\"- Mean Absolute Error: {:.4f}\".format(model_train_mae))\n",
    "    print(\"- R2 Score: {:.4f}\".format(model_train_r2))\n",
    "\n",
    "    print('_'*40)\n",
    "    \n",
    "    print('Model performance for Test set')\n",
    "    print(\"- Root Mean Squared Error: {:.4f}\".format(model_test_rmse))\n",
    "    print(\"- Mean Absolute Error: {:.4f}\".format(model_test_mae))\n",
    "    print(\"- R2 Score: {:.4f}\".format(model_test_r2))\n",
    "    \n",
    "    print('_'*40)\n",
    "    print('\\n')"
   ]
  },
  {
   "cell_type": "code",
   "execution_count": 47,
   "id": "48ebffc9-f7a7-4d65-b61b-cb1994ebb9b9",
   "metadata": {},
   "outputs": [],
   "source": [
    "knn_params = {\"n_neighbors\": [2, 3, 10, 20, 40, 50]}\n",
    "rf_params = {\"max_depth\": [5, 8, 15, None, 10],\n",
    "             \"max_features\": [5, 7, \"auto\", 8],\n",
    "             \"min_samples_split\": [2, 8, 15, 20],\n",
    "             \"n_estimators\": [100, 200, 500, 1000]}\n",
    "\n",
    "ada_params={\n",
    "    \"n_estimators\":[50,60,70,80],\n",
    "    \"loss\":['linear','square','exponential']\n",
    "}\n",
    "gb_params={\n",
    "    \"loss\":['squared_error', 'absolute_error', 'huber', 'quantile'],\n",
    "    \"criterion\":['friedman_mse', 'squared_error'],\n",
    "    \"n_estimators\":[50,60,70,80,100]\n",
    "}\n",
    "    "
   ]
  },
  {
   "cell_type": "code",
   "execution_count": 48,
   "id": "8362d2da-628f-4f7f-862f-6cf12e2a5a7c",
   "metadata": {},
   "outputs": [],
   "source": [
    "randomcv_models = [('KNN', KNeighborsRegressor(), knn_params),\n",
    "                   (\"RF\", RandomForestRegressor(), rf_params),\n",
    "                   (\"Adaboost\",AdaBoostRegressor(),ada_params),\n",
    "                   (\"GB\",GradientBoostingRegressor(),gb_params)\n",
    "                   ]"
   ]
  },
  {
   "cell_type": "code",
   "execution_count": 49,
   "id": "e8c1d220-74d8-495d-870b-ede68dec9504",
   "metadata": {},
   "outputs": [
    {
     "name": "stdout",
     "output_type": "stream",
     "text": [
      "Fitting 3 folds for each of 6 candidates, totalling 18 fits\n",
      "Fitting 3 folds for each of 100 candidates, totalling 300 fits\n",
      "Fitting 3 folds for each of 12 candidates, totalling 36 fits\n",
      "Fitting 3 folds for each of 40 candidates, totalling 120 fits\n",
      "********** Best Params for KNN **********\n",
      "{'n_neighbors': 40}\n",
      "********** Best Params for RF **********\n",
      "{'n_estimators': 100, 'min_samples_split': 2, 'max_features': 7, 'max_depth': 8}\n",
      "********** Best Params for Adaboost **********\n",
      "{'n_estimators': 60, 'loss': 'square'}\n",
      "********** Best Params for GB **********\n",
      "{'n_estimators': 60, 'loss': 'huber', 'criterion': 'friedman_mse'}\n"
     ]
    }
   ],
   "source": [
    "from sklearn.model_selection import RandomizedSearchCV\n",
    "\n",
    "model_param = {}\n",
    "for name, model, params in randomcv_models:\n",
    "    random = RandomizedSearchCV(estimator=model,\n",
    "                                   param_distributions=params,\n",
    "                                   n_iter=100,\n",
    "                                   cv=3,\n",
    "                                   verbose=2,\n",
    "                                   n_jobs=-1)\n",
    "    random.fit(X_train, Y_train)\n",
    "    model_param[name] = random.best_params_\n",
    "\n",
    "for model_name in model_param:\n",
    "    print(f\"********** Best Params for {model_name} **********\")\n",
    "    print(model_param[model_name])"
   ]
  },
  {
   "cell_type": "code",
   "execution_count": 52,
   "id": "4487f356-4f4c-402b-9068-f2421b563aeb",
   "metadata": {},
   "outputs": [
    {
     "name": "stdout",
     "output_type": "stream",
     "text": [
      "Random Forest Regressor\n",
      "Model performance for Training set\n",
      "- Root Mean Squared Error: 0.7095\n",
      "- Mean Absolute Error: 0.2956\n",
      "- R2 Score: 0.9815\n",
      "________________________________________\n",
      "Model performance for Test set\n",
      "- Root Mean Squared Error: 0.4181\n",
      "- Mean Absolute Error: 0.2980\n",
      "- R2 Score: 0.9867\n",
      "________________________________________\n",
      "\n",
      "\n",
      "K-Neighbors Regressor\n",
      "Model performance for Training set\n",
      "- Root Mean Squared Error: 5.1015\n",
      "- Mean Absolute Error: 3.4307\n",
      "- R2 Score: 0.0413\n",
      "________________________________________\n",
      "Model performance for Test set\n",
      "- Root Mean Squared Error: 3.6033\n",
      "- Mean Absolute Error: 3.2307\n",
      "- R2 Score: 0.0132\n",
      "________________________________________\n",
      "\n",
      "\n",
      "Adaboost\n",
      "Model performance for Training set\n",
      "- Root Mean Squared Error: 1.1463\n",
      "- Mean Absolute Error: 0.9271\n",
      "- R2 Score: 0.9516\n",
      "________________________________________\n",
      "Model performance for Test set\n",
      "- Root Mean Squared Error: 1.0331\n",
      "- Mean Absolute Error: 0.8780\n",
      "- R2 Score: 0.9189\n",
      "________________________________________\n",
      "\n",
      "\n",
      "GradientBoost\n",
      "Model performance for Training set\n",
      "- Root Mean Squared Error: 0.5282\n",
      "- Mean Absolute Error: 0.2934\n",
      "- R2 Score: 0.9897\n",
      "________________________________________\n",
      "Model performance for Test set\n",
      "- Root Mean Squared Error: 0.5267\n",
      "- Mean Absolute Error: 0.3632\n",
      "- R2 Score: 0.9789\n",
      "________________________________________\n",
      "\n",
      "\n"
     ]
    }
   ],
   "source": [
    "models = {\n",
    "    \"Random Forest Regressor\": RandomForestRegressor(n_estimators=100, min_samples_split=2, max_features=7, max_depth=8, \n",
    "                                                     n_jobs=-1),\n",
    "     \"K-Neighbors Regressor\": KNeighborsRegressor(n_neighbors=40, n_jobs=-1),\n",
    "     \"Adaboost\":AdaBoostRegressor(n_estimators=60,loss='square'),\n",
    "     \"GradientBoost\":GradientBoostingRegressor(n_estimators=60,loss='huber',criterion='friedman_mse')\n",
    "}\n",
    "for i in range(len(list(models))):\n",
    "    model = list(models.values())[i]\n",
    "    model.fit(X_train, Y_train) # Train model\n",
    "\n",
    "    # Make predictions\n",
    "    y_train_pred = model.predict(X_train)\n",
    "    y_test_pred = model.predict(X_test)\n",
    "\n",
    "    model_train_mae , model_train_rmse, model_train_r2 = evaluate_model(Y_train, y_train_pred)\n",
    "\n",
    "    model_test_mae , model_test_rmse, model_test_r2 = evaluate_model(Y_test, y_test_pred)\n",
    "    \n",
    "    print(list(models.keys())[i])\n",
    "    \n",
    "    print('Model performance for Training set')\n",
    "    print(\"- Root Mean Squared Error: {:.4f}\".format(model_train_rmse))\n",
    "    print(\"- Mean Absolute Error: {:.4f}\".format(model_train_mae))\n",
    "    print(\"- R2 Score: {:.4f}\".format(model_train_r2))\n",
    "\n",
    "    print('_'*40)\n",
    "    \n",
    "    print('Model performance for Test set')\n",
    "    print(\"- Root Mean Squared Error: {:.4f}\".format(model_test_rmse))\n",
    "    print(\"- Mean Absolute Error: {:.4f}\".format(model_test_mae))\n",
    "    print(\"- R2 Score: {:.4f}\".format(model_test_r2))\n",
    "    \n",
    "    print('_'*40)\n",
    "    print('\\n')"
   ]
  }
 ],
 "metadata": {
  "kernelspec": {
   "display_name": "Python 3 (ipykernel)",
   "language": "python",
   "name": "python3"
  },
  "language_info": {
   "codemirror_mode": {
    "name": "ipython",
    "version": 3
   },
   "file_extension": ".py",
   "mimetype": "text/x-python",
   "name": "python",
   "nbconvert_exporter": "python",
   "pygments_lexer": "ipython3",
   "version": "3.10.9"
  }
 },
 "nbformat": 4,
 "nbformat_minor": 5
}
